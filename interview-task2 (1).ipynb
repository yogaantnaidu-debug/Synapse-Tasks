{
 "cells": [
  {
   "cell_type": "markdown",
   "id": "638cbcb3",
   "metadata": {
    "papermill": {
     "duration": 0.006121,
     "end_time": "2025-08-29T11:14:38.623724",
     "exception": false,
     "start_time": "2025-08-29T11:14:38.617603",
     "status": "completed"
    },
    "tags": []
   },
   "source": [
    "# Instructions \n",
    "\n",
    "- Make sure you’re logged into Kaggle.\n",
    "- Load the **Video Game Sales dataset** (CSV file is provided in the Kaggle input section).  \n",
    "- Carefully read through each step and run the cells in order.  \n",
    "- Do **not** skip steps — each builds on the previous one.  \n",
    "- Add your own observations wherever possible, especially when exploring graphs.  \n",
    "- Remember: This is practice for real-world data preprocessing + EDA, so try to think *why* each step is done, not just *how*.  \n",
    "- At the end, feel free to explore further — add more plots, groupbys, or questions you want to answer!  \n",
    "\n"
   ]
  },
  {
   "cell_type": "markdown",
   "id": "f4919aef",
   "metadata": {
    "papermill": {
     "duration": 0.004626,
     "end_time": "2025-08-29T11:14:38.633255",
     "exception": false,
     "start_time": "2025-08-29T11:14:38.628629",
     "status": "completed"
    },
    "tags": []
   },
   "source": [
    "Welcome to your next checkpoint on the Synapse road!\n",
    "Today we’re diving into the Video Game Sales dataset to practice real-world data preprocessing + EDA. Think of this like prepping ingredients before cooking — we’ll clean, slice, and plate the data so insights pop 🍽️"
   ]
  },
  {
   "cell_type": "markdown",
   "id": "f3d9c77b",
   "metadata": {
    "papermill": {
     "duration": 0.004361,
     "end_time": "2025-08-29T11:14:38.642639",
     "exception": false,
     "start_time": "2025-08-29T11:14:38.638278",
     "status": "completed"
    },
    "tags": []
   },
   "source": [
    "We’ll be using pandas, numpy, matplotlib, and seaborn for this task.\n",
    "Run the following cell to import them"
   ]
  },
  {
   "cell_type": "code",
   "execution_count": 1,
   "id": "5287f3ec",
   "metadata": {
    "execution": {
     "iopub.execute_input": "2025-08-29T11:14:38.653257Z",
     "iopub.status.busy": "2025-08-29T11:14:38.652880Z",
     "iopub.status.idle": "2025-08-29T11:14:42.402706Z",
     "shell.execute_reply": "2025-08-29T11:14:42.401312Z"
    },
    "papermill": {
     "duration": 3.757209,
     "end_time": "2025-08-29T11:14:42.404466",
     "exception": false,
     "start_time": "2025-08-29T11:14:38.647257",
     "status": "completed"
    },
    "tags": []
   },
   "outputs": [],
   "source": [
    "import pandas as pd\n",
    "import numpy as np\n",
    "import matplotlib.pyplot as plt\n",
    "import seaborn as sns"
   ]
  },
  {
   "cell_type": "markdown",
   "id": "cce857d6",
   "metadata": {
    "papermill": {
     "duration": 0.004557,
     "end_time": "2025-08-29T11:14:42.414008",
     "exception": false,
     "start_time": "2025-08-29T11:14:42.409451",
     "status": "completed"
    },
    "tags": []
   },
   "source": [
    "Alright, now that we’ve got our tools ready, let’s bring in the star of the show — the **Video Game Sales dataset** 🎮  \n",
    "\n",
    "Your task:  \n",
    "- Load the dataset into a pandas DataFrame.  \n",
    "- Take a quick peek at the first few rows using.  \n",
    "- Check the shape of the dataset to see how big this universe is.  \n",
    "\n",
    "Think of this step as unboxing a new console — gotta see what’s inside first!  \n"
   ]
  },
  {
   "cell_type": "code",
   "execution_count": 2,
   "id": "c0167f14",
   "metadata": {
    "execution": {
     "iopub.execute_input": "2025-08-29T11:14:42.424919Z",
     "iopub.status.busy": "2025-08-29T11:14:42.424450Z",
     "iopub.status.idle": "2025-08-29T11:14:42.508997Z",
     "shell.execute_reply": "2025-08-29T11:14:42.508176Z"
    },
    "papermill": {
     "duration": 0.091964,
     "end_time": "2025-08-29T11:14:42.510709",
     "exception": false,
     "start_time": "2025-08-29T11:14:42.418745",
     "status": "completed"
    },
    "tags": []
   },
   "outputs": [],
   "source": [
    "df=pd.read_csv('/kaggle/input/videogamesales/vgsales.csv')"
   ]
  },
  {
   "cell_type": "code",
   "execution_count": 3,
   "id": "5dcfa02a",
   "metadata": {
    "execution": {
     "iopub.execute_input": "2025-08-29T11:14:42.522305Z",
     "iopub.status.busy": "2025-08-29T11:14:42.521946Z",
     "iopub.status.idle": "2025-08-29T11:14:42.551468Z",
     "shell.execute_reply": "2025-08-29T11:14:42.550484Z"
    },
    "papermill": {
     "duration": 0.03746,
     "end_time": "2025-08-29T11:14:42.553095",
     "exception": false,
     "start_time": "2025-08-29T11:14:42.515635",
     "status": "completed"
    },
    "tags": []
   },
   "outputs": [
    {
     "data": {
      "text/html": [
       "<div>\n",
       "<style scoped>\n",
       "    .dataframe tbody tr th:only-of-type {\n",
       "        vertical-align: middle;\n",
       "    }\n",
       "\n",
       "    .dataframe tbody tr th {\n",
       "        vertical-align: top;\n",
       "    }\n",
       "\n",
       "    .dataframe thead th {\n",
       "        text-align: right;\n",
       "    }\n",
       "</style>\n",
       "<table border=\"1\" class=\"dataframe\">\n",
       "  <thead>\n",
       "    <tr style=\"text-align: right;\">\n",
       "      <th></th>\n",
       "      <th>Rank</th>\n",
       "      <th>Name</th>\n",
       "      <th>Platform</th>\n",
       "      <th>Year</th>\n",
       "      <th>Genre</th>\n",
       "      <th>Publisher</th>\n",
       "      <th>NA_Sales</th>\n",
       "      <th>EU_Sales</th>\n",
       "      <th>JP_Sales</th>\n",
       "      <th>Other_Sales</th>\n",
       "      <th>Global_Sales</th>\n",
       "    </tr>\n",
       "  </thead>\n",
       "  <tbody>\n",
       "    <tr>\n",
       "      <th>0</th>\n",
       "      <td>1</td>\n",
       "      <td>Wii Sports</td>\n",
       "      <td>Wii</td>\n",
       "      <td>2006.0</td>\n",
       "      <td>Sports</td>\n",
       "      <td>Nintendo</td>\n",
       "      <td>41.49</td>\n",
       "      <td>29.02</td>\n",
       "      <td>3.77</td>\n",
       "      <td>8.46</td>\n",
       "      <td>82.74</td>\n",
       "    </tr>\n",
       "    <tr>\n",
       "      <th>1</th>\n",
       "      <td>2</td>\n",
       "      <td>Super Mario Bros.</td>\n",
       "      <td>NES</td>\n",
       "      <td>1985.0</td>\n",
       "      <td>Platform</td>\n",
       "      <td>Nintendo</td>\n",
       "      <td>29.08</td>\n",
       "      <td>3.58</td>\n",
       "      <td>6.81</td>\n",
       "      <td>0.77</td>\n",
       "      <td>40.24</td>\n",
       "    </tr>\n",
       "    <tr>\n",
       "      <th>2</th>\n",
       "      <td>3</td>\n",
       "      <td>Mario Kart Wii</td>\n",
       "      <td>Wii</td>\n",
       "      <td>2008.0</td>\n",
       "      <td>Racing</td>\n",
       "      <td>Nintendo</td>\n",
       "      <td>15.85</td>\n",
       "      <td>12.88</td>\n",
       "      <td>3.79</td>\n",
       "      <td>3.31</td>\n",
       "      <td>35.82</td>\n",
       "    </tr>\n",
       "    <tr>\n",
       "      <th>3</th>\n",
       "      <td>4</td>\n",
       "      <td>Wii Sports Resort</td>\n",
       "      <td>Wii</td>\n",
       "      <td>2009.0</td>\n",
       "      <td>Sports</td>\n",
       "      <td>Nintendo</td>\n",
       "      <td>15.75</td>\n",
       "      <td>11.01</td>\n",
       "      <td>3.28</td>\n",
       "      <td>2.96</td>\n",
       "      <td>33.00</td>\n",
       "    </tr>\n",
       "    <tr>\n",
       "      <th>4</th>\n",
       "      <td>5</td>\n",
       "      <td>Pokemon Red/Pokemon Blue</td>\n",
       "      <td>GB</td>\n",
       "      <td>1996.0</td>\n",
       "      <td>Role-Playing</td>\n",
       "      <td>Nintendo</td>\n",
       "      <td>11.27</td>\n",
       "      <td>8.89</td>\n",
       "      <td>10.22</td>\n",
       "      <td>1.00</td>\n",
       "      <td>31.37</td>\n",
       "    </tr>\n",
       "  </tbody>\n",
       "</table>\n",
       "</div>"
      ],
      "text/plain": [
       "   Rank                      Name Platform    Year         Genre Publisher  \\\n",
       "0     1                Wii Sports      Wii  2006.0        Sports  Nintendo   \n",
       "1     2         Super Mario Bros.      NES  1985.0      Platform  Nintendo   \n",
       "2     3            Mario Kart Wii      Wii  2008.0        Racing  Nintendo   \n",
       "3     4         Wii Sports Resort      Wii  2009.0        Sports  Nintendo   \n",
       "4     5  Pokemon Red/Pokemon Blue       GB  1996.0  Role-Playing  Nintendo   \n",
       "\n",
       "   NA_Sales  EU_Sales  JP_Sales  Other_Sales  Global_Sales  \n",
       "0     41.49     29.02      3.77         8.46         82.74  \n",
       "1     29.08      3.58      6.81         0.77         40.24  \n",
       "2     15.85     12.88      3.79         3.31         35.82  \n",
       "3     15.75     11.01      3.28         2.96         33.00  \n",
       "4     11.27      8.89     10.22         1.00         31.37  "
      ]
     },
     "execution_count": 3,
     "metadata": {},
     "output_type": "execute_result"
    }
   ],
   "source": [
    "df.head()"
   ]
  },
  {
   "cell_type": "code",
   "execution_count": 4,
   "id": "c623f9c2",
   "metadata": {
    "execution": {
     "iopub.execute_input": "2025-08-29T11:14:42.565484Z",
     "iopub.status.busy": "2025-08-29T11:14:42.565084Z",
     "iopub.status.idle": "2025-08-29T11:14:42.570726Z",
     "shell.execute_reply": "2025-08-29T11:14:42.569970Z"
    },
    "papermill": {
     "duration": 0.013092,
     "end_time": "2025-08-29T11:14:42.572069",
     "exception": false,
     "start_time": "2025-08-29T11:14:42.558977",
     "status": "completed"
    },
    "tags": []
   },
   "outputs": [
    {
     "data": {
      "text/plain": [
       "(16598, 11)"
      ]
     },
     "execution_count": 4,
     "metadata": {},
     "output_type": "execute_result"
    }
   ],
   "source": [
    "df.shape"
   ]
  },
  {
   "cell_type": "markdown",
   "id": "90c43987",
   "metadata": {
    "papermill": {
     "duration": 0.004808,
     "end_time": "2025-08-29T11:14:42.582200",
     "exception": false,
     "start_time": "2025-08-29T11:14:42.577392",
     "status": "completed"
    },
    "tags": []
   },
   "source": [
    "### 🕹️ Level 1: Meet the Characters  \n",
    "\n",
    "Now that we’ve unboxed our dataset, let’s get to know the **cast of characters**:  \n",
    "- What kinds of columns do we have? (numeric, object, etc.)  \n",
    "- How many missing values are there?  \n",
    "\n",
    "Your task:  \n",
    "- To get a quick overview of column types + null values.  \n",
    "- To double-check the data types.  \n",
    "\n",
    "This step is like reading the **character bios** before starting a game   \n"
   ]
  },
  {
   "cell_type": "code",
   "execution_count": 5,
   "id": "1baee93d",
   "metadata": {
    "execution": {
     "iopub.execute_input": "2025-08-29T11:14:42.593814Z",
     "iopub.status.busy": "2025-08-29T11:14:42.593497Z",
     "iopub.status.idle": "2025-08-29T11:14:42.605534Z",
     "shell.execute_reply": "2025-08-29T11:14:42.604618Z"
    },
    "papermill": {
     "duration": 0.019654,
     "end_time": "2025-08-29T11:14:42.607181",
     "exception": false,
     "start_time": "2025-08-29T11:14:42.587527",
     "status": "completed"
    },
    "tags": []
   },
   "outputs": [
    {
     "data": {
      "text/plain": [
       "Rank              0\n",
       "Name              0\n",
       "Platform          0\n",
       "Year            271\n",
       "Genre             0\n",
       "Publisher        58\n",
       "NA_Sales          0\n",
       "EU_Sales          0\n",
       "JP_Sales          0\n",
       "Other_Sales       0\n",
       "Global_Sales      0\n",
       "dtype: int64"
      ]
     },
     "execution_count": 5,
     "metadata": {},
     "output_type": "execute_result"
    }
   ],
   "source": [
    "df.dtypes\n",
    "df.isnull().sum()\n"
   ]
  },
  {
   "cell_type": "markdown",
   "id": "8723fc29",
   "metadata": {
    "papermill": {
     "duration": 0.005085,
     "end_time": "2025-08-29T11:14:42.617576",
     "exception": false,
     "start_time": "2025-08-29T11:14:42.612491",
     "status": "completed"
    },
    "tags": []
   },
   "source": [
    "### 🎯 Level 2: Quick Stats Check (Describe the Data)  \n",
    "\n",
    "Every good gamer checks the **stats screen** before playing  \n",
    "Now, let’s do the same for our dataset:  \n",
    "\n",
    "Your task:  \n",
    "- To get summary statistics for numerical columns.  \n",
    "- Notice things like average sales, max values, and distribution hints.  \n",
    "\n",
    "This is like peeking at the **scoreboard** — who’s leading, what’s the high score?   \n"
   ]
  },
  {
   "cell_type": "code",
   "execution_count": 6,
   "id": "9f84f85b",
   "metadata": {
    "execution": {
     "iopub.execute_input": "2025-08-29T11:14:42.628965Z",
     "iopub.status.busy": "2025-08-29T11:14:42.628633Z",
     "iopub.status.idle": "2025-08-29T11:14:42.660455Z",
     "shell.execute_reply": "2025-08-29T11:14:42.659311Z"
    },
    "papermill": {
     "duration": 0.039323,
     "end_time": "2025-08-29T11:14:42.661925",
     "exception": false,
     "start_time": "2025-08-29T11:14:42.622602",
     "status": "completed"
    },
    "tags": []
   },
   "outputs": [
    {
     "data": {
      "text/html": [
       "<div>\n",
       "<style scoped>\n",
       "    .dataframe tbody tr th:only-of-type {\n",
       "        vertical-align: middle;\n",
       "    }\n",
       "\n",
       "    .dataframe tbody tr th {\n",
       "        vertical-align: top;\n",
       "    }\n",
       "\n",
       "    .dataframe thead th {\n",
       "        text-align: right;\n",
       "    }\n",
       "</style>\n",
       "<table border=\"1\" class=\"dataframe\">\n",
       "  <thead>\n",
       "    <tr style=\"text-align: right;\">\n",
       "      <th></th>\n",
       "      <th>Rank</th>\n",
       "      <th>Year</th>\n",
       "      <th>NA_Sales</th>\n",
       "      <th>EU_Sales</th>\n",
       "      <th>JP_Sales</th>\n",
       "      <th>Other_Sales</th>\n",
       "      <th>Global_Sales</th>\n",
       "    </tr>\n",
       "  </thead>\n",
       "  <tbody>\n",
       "    <tr>\n",
       "      <th>count</th>\n",
       "      <td>16598.000000</td>\n",
       "      <td>16327.000000</td>\n",
       "      <td>16598.000000</td>\n",
       "      <td>16598.000000</td>\n",
       "      <td>16598.000000</td>\n",
       "      <td>16598.000000</td>\n",
       "      <td>16598.000000</td>\n",
       "    </tr>\n",
       "    <tr>\n",
       "      <th>mean</th>\n",
       "      <td>8300.605254</td>\n",
       "      <td>2006.406443</td>\n",
       "      <td>0.264667</td>\n",
       "      <td>0.146652</td>\n",
       "      <td>0.077782</td>\n",
       "      <td>0.048063</td>\n",
       "      <td>0.537441</td>\n",
       "    </tr>\n",
       "    <tr>\n",
       "      <th>std</th>\n",
       "      <td>4791.853933</td>\n",
       "      <td>5.828981</td>\n",
       "      <td>0.816683</td>\n",
       "      <td>0.505351</td>\n",
       "      <td>0.309291</td>\n",
       "      <td>0.188588</td>\n",
       "      <td>1.555028</td>\n",
       "    </tr>\n",
       "    <tr>\n",
       "      <th>min</th>\n",
       "      <td>1.000000</td>\n",
       "      <td>1980.000000</td>\n",
       "      <td>0.000000</td>\n",
       "      <td>0.000000</td>\n",
       "      <td>0.000000</td>\n",
       "      <td>0.000000</td>\n",
       "      <td>0.010000</td>\n",
       "    </tr>\n",
       "    <tr>\n",
       "      <th>25%</th>\n",
       "      <td>4151.250000</td>\n",
       "      <td>2003.000000</td>\n",
       "      <td>0.000000</td>\n",
       "      <td>0.000000</td>\n",
       "      <td>0.000000</td>\n",
       "      <td>0.000000</td>\n",
       "      <td>0.060000</td>\n",
       "    </tr>\n",
       "    <tr>\n",
       "      <th>50%</th>\n",
       "      <td>8300.500000</td>\n",
       "      <td>2007.000000</td>\n",
       "      <td>0.080000</td>\n",
       "      <td>0.020000</td>\n",
       "      <td>0.000000</td>\n",
       "      <td>0.010000</td>\n",
       "      <td>0.170000</td>\n",
       "    </tr>\n",
       "    <tr>\n",
       "      <th>75%</th>\n",
       "      <td>12449.750000</td>\n",
       "      <td>2010.000000</td>\n",
       "      <td>0.240000</td>\n",
       "      <td>0.110000</td>\n",
       "      <td>0.040000</td>\n",
       "      <td>0.040000</td>\n",
       "      <td>0.470000</td>\n",
       "    </tr>\n",
       "    <tr>\n",
       "      <th>max</th>\n",
       "      <td>16600.000000</td>\n",
       "      <td>2020.000000</td>\n",
       "      <td>41.490000</td>\n",
       "      <td>29.020000</td>\n",
       "      <td>10.220000</td>\n",
       "      <td>10.570000</td>\n",
       "      <td>82.740000</td>\n",
       "    </tr>\n",
       "  </tbody>\n",
       "</table>\n",
       "</div>"
      ],
      "text/plain": [
       "               Rank          Year      NA_Sales      EU_Sales      JP_Sales  \\\n",
       "count  16598.000000  16327.000000  16598.000000  16598.000000  16598.000000   \n",
       "mean    8300.605254   2006.406443      0.264667      0.146652      0.077782   \n",
       "std     4791.853933      5.828981      0.816683      0.505351      0.309291   \n",
       "min        1.000000   1980.000000      0.000000      0.000000      0.000000   \n",
       "25%     4151.250000   2003.000000      0.000000      0.000000      0.000000   \n",
       "50%     8300.500000   2007.000000      0.080000      0.020000      0.000000   \n",
       "75%    12449.750000   2010.000000      0.240000      0.110000      0.040000   \n",
       "max    16600.000000   2020.000000     41.490000     29.020000     10.220000   \n",
       "\n",
       "        Other_Sales  Global_Sales  \n",
       "count  16598.000000  16598.000000  \n",
       "mean       0.048063      0.537441  \n",
       "std        0.188588      1.555028  \n",
       "min        0.000000      0.010000  \n",
       "25%        0.000000      0.060000  \n",
       "50%        0.010000      0.170000  \n",
       "75%        0.040000      0.470000  \n",
       "max       10.570000     82.740000  "
      ]
     },
     "execution_count": 6,
     "metadata": {},
     "output_type": "execute_result"
    }
   ],
   "source": [
    "df.describe()"
   ]
  },
  {
   "cell_type": "markdown",
   "id": "acbdc1d4",
   "metadata": {
    "papermill": {
     "duration": 0.005173,
     "end_time": "2025-08-29T11:14:42.672998",
     "exception": false,
     "start_time": "2025-08-29T11:14:42.667825",
     "status": "completed"
    },
    "tags": []
   },
   "source": [
    "## 🧹 Level 3: Clean the Map (Missing Values)\n",
    "\n",
    "Time to sweep the floor before we play.\n",
    "\n",
    "**Your tasks:**\n",
    "- Check how many missing values are in each column.\n",
    "- For this dataset, handle missing values in **`Year`** and **`Publisher`** by removing those rows.\n",
    "- Re-check to confirm there are **no missing values left**.\n",
    "\n",
    "> Tip: Do a quick sanity check after cleaning (row count should drop a bit).\n"
   ]
  },
  {
   "cell_type": "code",
   "execution_count": 7,
   "id": "96711b64",
   "metadata": {
    "execution": {
     "iopub.execute_input": "2025-08-29T11:14:42.686216Z",
     "iopub.status.busy": "2025-08-29T11:14:42.685601Z",
     "iopub.status.idle": "2025-08-29T11:14:42.696897Z",
     "shell.execute_reply": "2025-08-29T11:14:42.696177Z"
    },
    "papermill": {
     "duration": 0.019562,
     "end_time": "2025-08-29T11:14:42.698304",
     "exception": false,
     "start_time": "2025-08-29T11:14:42.678742",
     "status": "completed"
    },
    "tags": []
   },
   "outputs": [
    {
     "data": {
      "text/plain": [
       "Rank              0\n",
       "Name              0\n",
       "Platform          0\n",
       "Year            271\n",
       "Genre             0\n",
       "Publisher        58\n",
       "NA_Sales          0\n",
       "EU_Sales          0\n",
       "JP_Sales          0\n",
       "Other_Sales       0\n",
       "Global_Sales      0\n",
       "dtype: int64"
      ]
     },
     "execution_count": 7,
     "metadata": {},
     "output_type": "execute_result"
    }
   ],
   "source": [
    "df.isna().sum()"
   ]
  },
  {
   "cell_type": "code",
   "execution_count": 8,
   "id": "88a4d07b",
   "metadata": {
    "execution": {
     "iopub.execute_input": "2025-08-29T11:14:42.710277Z",
     "iopub.status.busy": "2025-08-29T11:14:42.709913Z",
     "iopub.status.idle": "2025-08-29T11:14:42.733198Z",
     "shell.execute_reply": "2025-08-29T11:14:42.732284Z"
    },
    "papermill": {
     "duration": 0.031023,
     "end_time": "2025-08-29T11:14:42.734737",
     "exception": false,
     "start_time": "2025-08-29T11:14:42.703714",
     "status": "completed"
    },
    "tags": []
   },
   "outputs": [
    {
     "data": {
      "text/plain": [
       "Rank            0\n",
       "Name            0\n",
       "Platform        0\n",
       "Year            0\n",
       "Genre           0\n",
       "Publisher       0\n",
       "NA_Sales        0\n",
       "EU_Sales        0\n",
       "JP_Sales        0\n",
       "Other_Sales     0\n",
       "Global_Sales    0\n",
       "dtype: int64"
      ]
     },
     "execution_count": 8,
     "metadata": {},
     "output_type": "execute_result"
    }
   ],
   "source": [
    "df=df.dropna()\n",
    "df.isna().sum()\n",
    "\n",
    "\n",
    "\n"
   ]
  },
  {
   "cell_type": "code",
   "execution_count": 9,
   "id": "4d7646a0",
   "metadata": {
    "execution": {
     "iopub.execute_input": "2025-08-29T11:14:42.747631Z",
     "iopub.status.busy": "2025-08-29T11:14:42.747301Z",
     "iopub.status.idle": "2025-08-29T11:14:42.752873Z",
     "shell.execute_reply": "2025-08-29T11:14:42.751953Z"
    },
    "papermill": {
     "duration": 0.013848,
     "end_time": "2025-08-29T11:14:42.754320",
     "exception": false,
     "start_time": "2025-08-29T11:14:42.740472",
     "status": "completed"
    },
    "tags": []
   },
   "outputs": [
    {
     "data": {
      "text/plain": [
       "(16291, 11)"
      ]
     },
     "execution_count": 9,
     "metadata": {},
     "output_type": "execute_result"
    }
   ],
   "source": [
    "df.shape\n"
   ]
  },
  {
   "cell_type": "markdown",
   "id": "f73d96ea",
   "metadata": {
    "papermill": {
     "duration": 0.005804,
     "end_time": "2025-08-29T11:14:42.765992",
     "exception": false,
     "start_time": "2025-08-29T11:14:42.760188",
     "status": "completed"
    },
    "tags": []
   },
   "source": [
    "## 🔢 Level 4: Patch the `Year` Column (Data Types)\n",
    "\n",
    "`Year` often shows up as a float (e.g., `2008.0`) because of missing values earlier.\n",
    "\n",
    "**Your tasks:**\n",
    "- Convert **`Year`** to **integer**.\n",
    "- Re-run a quick `info` to confirm the dtype change.\n",
    "\n",
    "> If conversion fails, revisit Level 3 — some NaNs may still be lurking.\n"
   ]
  },
  {
   "cell_type": "code",
   "execution_count": 10,
   "id": "8ac040a4",
   "metadata": {
    "execution": {
     "iopub.execute_input": "2025-08-29T11:14:42.778562Z",
     "iopub.status.busy": "2025-08-29T11:14:42.777811Z",
     "iopub.status.idle": "2025-08-29T11:14:42.788718Z",
     "shell.execute_reply": "2025-08-29T11:14:42.787947Z"
    },
    "papermill": {
     "duration": 0.018731,
     "end_time": "2025-08-29T11:14:42.790235",
     "exception": false,
     "start_time": "2025-08-29T11:14:42.771504",
     "status": "completed"
    },
    "tags": []
   },
   "outputs": [
    {
     "data": {
      "text/plain": [
       "Rank              int64\n",
       "Name             object\n",
       "Platform         object\n",
       "Year              Int64\n",
       "Genre            object\n",
       "Publisher        object\n",
       "NA_Sales        float64\n",
       "EU_Sales        float64\n",
       "JP_Sales        float64\n",
       "Other_Sales     float64\n",
       "Global_Sales    float64\n",
       "dtype: object"
      ]
     },
     "execution_count": 10,
     "metadata": {},
     "output_type": "execute_result"
    }
   ],
   "source": [
    "df['Year']=df['Year'].astype('Int64')\n",
    "df.dtypes"
   ]
  },
  {
   "cell_type": "code",
   "execution_count": 11,
   "id": "e16c64e4",
   "metadata": {
    "execution": {
     "iopub.execute_input": "2025-08-29T11:14:42.803244Z",
     "iopub.status.busy": "2025-08-29T11:14:42.802868Z",
     "iopub.status.idle": "2025-08-29T11:14:42.816894Z",
     "shell.execute_reply": "2025-08-29T11:14:42.816182Z"
    },
    "papermill": {
     "duration": 0.022219,
     "end_time": "2025-08-29T11:14:42.818437",
     "exception": false,
     "start_time": "2025-08-29T11:14:42.796218",
     "status": "completed"
    },
    "tags": []
   },
   "outputs": [
    {
     "data": {
      "text/html": [
       "<div>\n",
       "<style scoped>\n",
       "    .dataframe tbody tr th:only-of-type {\n",
       "        vertical-align: middle;\n",
       "    }\n",
       "\n",
       "    .dataframe tbody tr th {\n",
       "        vertical-align: top;\n",
       "    }\n",
       "\n",
       "    .dataframe thead th {\n",
       "        text-align: right;\n",
       "    }\n",
       "</style>\n",
       "<table border=\"1\" class=\"dataframe\">\n",
       "  <thead>\n",
       "    <tr style=\"text-align: right;\">\n",
       "      <th></th>\n",
       "      <th>Rank</th>\n",
       "      <th>Name</th>\n",
       "      <th>Platform</th>\n",
       "      <th>Year</th>\n",
       "      <th>Genre</th>\n",
       "      <th>Publisher</th>\n",
       "      <th>NA_Sales</th>\n",
       "      <th>EU_Sales</th>\n",
       "      <th>JP_Sales</th>\n",
       "      <th>Other_Sales</th>\n",
       "      <th>Global_Sales</th>\n",
       "    </tr>\n",
       "  </thead>\n",
       "  <tbody>\n",
       "    <tr>\n",
       "      <th>0</th>\n",
       "      <td>1</td>\n",
       "      <td>Wii Sports</td>\n",
       "      <td>Wii</td>\n",
       "      <td>2006</td>\n",
       "      <td>Sports</td>\n",
       "      <td>Nintendo</td>\n",
       "      <td>41.49</td>\n",
       "      <td>29.02</td>\n",
       "      <td>3.77</td>\n",
       "      <td>8.46</td>\n",
       "      <td>82.74</td>\n",
       "    </tr>\n",
       "    <tr>\n",
       "      <th>1</th>\n",
       "      <td>2</td>\n",
       "      <td>Super Mario Bros.</td>\n",
       "      <td>NES</td>\n",
       "      <td>1985</td>\n",
       "      <td>Platform</td>\n",
       "      <td>Nintendo</td>\n",
       "      <td>29.08</td>\n",
       "      <td>3.58</td>\n",
       "      <td>6.81</td>\n",
       "      <td>0.77</td>\n",
       "      <td>40.24</td>\n",
       "    </tr>\n",
       "    <tr>\n",
       "      <th>2</th>\n",
       "      <td>3</td>\n",
       "      <td>Mario Kart Wii</td>\n",
       "      <td>Wii</td>\n",
       "      <td>2008</td>\n",
       "      <td>Racing</td>\n",
       "      <td>Nintendo</td>\n",
       "      <td>15.85</td>\n",
       "      <td>12.88</td>\n",
       "      <td>3.79</td>\n",
       "      <td>3.31</td>\n",
       "      <td>35.82</td>\n",
       "    </tr>\n",
       "    <tr>\n",
       "      <th>3</th>\n",
       "      <td>4</td>\n",
       "      <td>Wii Sports Resort</td>\n",
       "      <td>Wii</td>\n",
       "      <td>2009</td>\n",
       "      <td>Sports</td>\n",
       "      <td>Nintendo</td>\n",
       "      <td>15.75</td>\n",
       "      <td>11.01</td>\n",
       "      <td>3.28</td>\n",
       "      <td>2.96</td>\n",
       "      <td>33.00</td>\n",
       "    </tr>\n",
       "    <tr>\n",
       "      <th>4</th>\n",
       "      <td>5</td>\n",
       "      <td>Pokemon Red/Pokemon Blue</td>\n",
       "      <td>GB</td>\n",
       "      <td>1996</td>\n",
       "      <td>Role-Playing</td>\n",
       "      <td>Nintendo</td>\n",
       "      <td>11.27</td>\n",
       "      <td>8.89</td>\n",
       "      <td>10.22</td>\n",
       "      <td>1.00</td>\n",
       "      <td>31.37</td>\n",
       "    </tr>\n",
       "  </tbody>\n",
       "</table>\n",
       "</div>"
      ],
      "text/plain": [
       "   Rank                      Name Platform  Year         Genre Publisher  \\\n",
       "0     1                Wii Sports      Wii  2006        Sports  Nintendo   \n",
       "1     2         Super Mario Bros.      NES  1985      Platform  Nintendo   \n",
       "2     3            Mario Kart Wii      Wii  2008        Racing  Nintendo   \n",
       "3     4         Wii Sports Resort      Wii  2009        Sports  Nintendo   \n",
       "4     5  Pokemon Red/Pokemon Blue       GB  1996  Role-Playing  Nintendo   \n",
       "\n",
       "   NA_Sales  EU_Sales  JP_Sales  Other_Sales  Global_Sales  \n",
       "0     41.49     29.02      3.77         8.46         82.74  \n",
       "1     29.08      3.58      6.81         0.77         40.24  \n",
       "2     15.85     12.88      3.79         3.31         35.82  \n",
       "3     15.75     11.01      3.28         2.96         33.00  \n",
       "4     11.27      8.89     10.22         1.00         31.37  "
      ]
     },
     "execution_count": 11,
     "metadata": {},
     "output_type": "execute_result"
    }
   ],
   "source": [
    "df.head()\n"
   ]
  },
  {
   "cell_type": "markdown",
   "id": "5de7adf1",
   "metadata": {
    "papermill": {
     "duration": 0.005776,
     "end_time": "2025-08-29T11:14:42.830276",
     "exception": false,
     "start_time": "2025-08-29T11:14:42.824500",
     "status": "completed"
    },
    "tags": []
   },
   "source": [
    "\n",
    "## 🎮 Level 5: Spotting the Legends  \n",
    "Now that we’ve explored platforms and genres, let’s look at the **all-time best sellers**.  \n",
    "Your task:  \n",
    "\n",
    "List the **Top 5 best-selling video games**.  \n",
    "We’ll display their **Name, Platform, Genre, and Global Sales**.  \n",
    "\n",
    "Think of this as the **Hall of Fame of Video Games** \n",
    "\n",
    "\n"
   ]
  },
  {
   "cell_type": "code",
   "execution_count": 12,
   "id": "d7ba72d0",
   "metadata": {
    "execution": {
     "iopub.execute_input": "2025-08-29T11:14:42.843023Z",
     "iopub.status.busy": "2025-08-29T11:14:42.842701Z",
     "iopub.status.idle": "2025-08-29T11:14:42.859678Z",
     "shell.execute_reply": "2025-08-29T11:14:42.858800Z"
    },
    "papermill": {
     "duration": 0.025075,
     "end_time": "2025-08-29T11:14:42.861100",
     "exception": false,
     "start_time": "2025-08-29T11:14:42.836025",
     "status": "completed"
    },
    "tags": []
   },
   "outputs": [
    {
     "data": {
      "text/html": [
       "<div>\n",
       "<style scoped>\n",
       "    .dataframe tbody tr th:only-of-type {\n",
       "        vertical-align: middle;\n",
       "    }\n",
       "\n",
       "    .dataframe tbody tr th {\n",
       "        vertical-align: top;\n",
       "    }\n",
       "\n",
       "    .dataframe thead th {\n",
       "        text-align: right;\n",
       "    }\n",
       "</style>\n",
       "<table border=\"1\" class=\"dataframe\">\n",
       "  <thead>\n",
       "    <tr style=\"text-align: right;\">\n",
       "      <th></th>\n",
       "      <th>Name</th>\n",
       "      <th>Platform</th>\n",
       "      <th>Genre</th>\n",
       "      <th>Global_Sales</th>\n",
       "    </tr>\n",
       "  </thead>\n",
       "  <tbody>\n",
       "    <tr>\n",
       "      <th>0</th>\n",
       "      <td>Wii Sports</td>\n",
       "      <td>Wii</td>\n",
       "      <td>Sports</td>\n",
       "      <td>82.74</td>\n",
       "    </tr>\n",
       "    <tr>\n",
       "      <th>1</th>\n",
       "      <td>Super Mario Bros.</td>\n",
       "      <td>NES</td>\n",
       "      <td>Platform</td>\n",
       "      <td>40.24</td>\n",
       "    </tr>\n",
       "    <tr>\n",
       "      <th>2</th>\n",
       "      <td>Mario Kart Wii</td>\n",
       "      <td>Wii</td>\n",
       "      <td>Racing</td>\n",
       "      <td>35.82</td>\n",
       "    </tr>\n",
       "    <tr>\n",
       "      <th>3</th>\n",
       "      <td>Wii Sports Resort</td>\n",
       "      <td>Wii</td>\n",
       "      <td>Sports</td>\n",
       "      <td>33.00</td>\n",
       "    </tr>\n",
       "    <tr>\n",
       "      <th>4</th>\n",
       "      <td>Pokemon Red/Pokemon Blue</td>\n",
       "      <td>GB</td>\n",
       "      <td>Role-Playing</td>\n",
       "      <td>31.37</td>\n",
       "    </tr>\n",
       "  </tbody>\n",
       "</table>\n",
       "</div>"
      ],
      "text/plain": [
       "                       Name Platform         Genre  Global_Sales\n",
       "0                Wii Sports      Wii        Sports         82.74\n",
       "1         Super Mario Bros.      NES      Platform         40.24\n",
       "2            Mario Kart Wii      Wii        Racing         35.82\n",
       "3         Wii Sports Resort      Wii        Sports         33.00\n",
       "4  Pokemon Red/Pokemon Blue       GB  Role-Playing         31.37"
      ]
     },
     "execution_count": 12,
     "metadata": {},
     "output_type": "execute_result"
    }
   ],
   "source": [
    "df_best=df.sort_values(by='Global_Sales',ascending=False)\n",
    "df_best=df_best[['Name','Platform','Genre','Global_Sales']]\n",
    "df_best.head(5)\n",
    "     \n"
   ]
  },
  {
   "cell_type": "markdown",
   "id": "567482e6",
   "metadata": {
    "papermill": {
     "duration": 0.00568,
     "end_time": "2025-08-29T11:14:42.872917",
     "exception": false,
     "start_time": "2025-08-29T11:14:42.867237",
     "status": "completed"
    },
    "tags": []
   },
   "source": [
    "\n",
    "## 🎮 Level 6: Which Console Ruled the Game?  \n",
    "Every console/platform has a legacy — but which one released the **most number of games**?  \n",
    "\n",
    "Count the number of games released on each platform.  \n",
    "Create a **bar chart** to visualize it.  \n",
    "Finally, answer: **Which platform has the highest number of releases?** \n",
    "\n",
    "  \n"
   ]
  },
  {
   "cell_type": "code",
   "execution_count": 13,
   "id": "0afc33c5",
   "metadata": {
    "execution": {
     "iopub.execute_input": "2025-08-29T11:14:42.886186Z",
     "iopub.status.busy": "2025-08-29T11:14:42.885844Z",
     "iopub.status.idle": "2025-08-29T11:14:43.497446Z",
     "shell.execute_reply": "2025-08-29T11:14:43.496544Z"
    },
    "papermill": {
     "duration": 0.620118,
     "end_time": "2025-08-29T11:14:43.498869",
     "exception": false,
     "start_time": "2025-08-29T11:14:42.878751",
     "status": "completed"
    },
    "tags": []
   },
   "outputs": [
    {
     "data": {
      "text/plain": [
       "Text(0, 0.5, 'No of Games')"
      ]
     },
     "execution_count": 13,
     "metadata": {},
     "output_type": "execute_result"
    },
    {
     "data": {
      "image/png": "[encoded data removed]",
      "text/plain": [
       "<Figure size 640x480 with 1 Axes>"
      ]
     },
     "metadata": {},
     "output_type": "display_data"
    }
   ],
   "source": [
    "plt1=df['Platform'].value_counts().plot(kind='bar',title='Total Games per Console')\n",
    "plt1.set_xlabel('Consoles')\n",
    "plt1.set_ylabel('No of Games')"
   ]
  },
  {
   "cell_type": "markdown",
   "id": "99ef4418",
   "metadata": {
    "papermill": {
     "duration": 0.006268,
     "end_time": "2025-08-29T11:14:43.512173",
     "exception": false,
     "start_time": "2025-08-29T11:14:43.505905",
     "status": "completed"
    },
    "tags": []
   },
   "source": [
    "\n",
    "## 🏢 Level 7: The Big Bosses (Top Publishers)  \n",
    "Some publishers dominate the industry like final bosses \n",
    "\n",
    "Your task:  \n",
    "- Find the **Top 5 publishers** with the highest **total Global Sales**.  \n",
    "- Show their contribution using a **pie chart** \n",
    "\n",
    "This will help us see who really controlled the gaming world  \n"
   ]
  },
  {
   "cell_type": "code",
   "execution_count": 14,
   "id": "8c4d0c65",
   "metadata": {
    "execution": {
     "iopub.execute_input": "2025-08-29T11:14:43.527713Z",
     "iopub.status.busy": "2025-08-29T11:14:43.526652Z",
     "iopub.status.idle": "2025-08-29T11:14:43.673605Z",
     "shell.execute_reply": "2025-08-29T11:14:43.672722Z"
    },
    "papermill": {
     "duration": 0.156135,
     "end_time": "2025-08-29T11:14:43.675062",
     "exception": false,
     "start_time": "2025-08-29T11:14:43.518927",
     "status": "completed"
    },
    "tags": []
   },
   "outputs": [
    {
     "data": {
      "text/plain": [
       "Text(0, 0.5, '')"
      ]
     },
     "execution_count": 14,
     "metadata": {},
     "output_type": "execute_result"
    },
    {
     "data": {
      "image/png": "[encoded data removed]",
      "text/plain": [
       "<Figure size 640x480 with 1 Axes>"
      ]
     },
     "metadata": {},
     "output_type": "display_data"
    }
   ],
   "source": [
    "df_pub=df.groupby('Publisher')['Global_Sales'].agg(['sum']).sort_values(by='sum',ascending=False)\n",
    "plt2=df_pub.head(5).plot(kind='pie',y='sum',legend=False,title='Top Publishers and Total Sales')\n",
    "plt2.set_ylabel('')"
   ]
  },
  {
   "cell_type": "markdown",
   "id": "9c0115f2",
   "metadata": {
    "papermill": {
     "duration": 0.007535,
     "end_time": "2025-08-29T11:14:43.691059",
     "exception": false,
     "start_time": "2025-08-29T11:14:43.683524",
     "status": "completed"
    },
    "tags": []
   },
   "source": [
    "\n",
    "## 🌍 Level 8: Genre Champions in Europe  \n",
    "Different genres have their own kings in different regions.  \n",
    "Let’s focus on **Europe (EU Sales)** for now.  \n",
    "\n",
    "Your task:  \n",
    "- For **each Genre**, find the **Publisher** that has the highest **total EU Sales**.  \n",
    "- Print the results as a list (Genre → Top Publisher).  \n",
    "\n",
    "Think of this as awarding the **regional championship belts**  \n",
    "\n"
   ]
  },
  {
   "cell_type": "code",
   "execution_count": 15,
   "id": "fb77b3c9",
   "metadata": {
    "execution": {
     "iopub.execute_input": "2025-08-29T11:14:43.707951Z",
     "iopub.status.busy": "2025-08-29T11:14:43.707083Z",
     "iopub.status.idle": "2025-08-29T11:14:43.726220Z",
     "shell.execute_reply": "2025-08-29T11:14:43.725050Z"
    },
    "papermill": {
     "duration": 0.029098,
     "end_time": "2025-08-29T11:14:43.727680",
     "exception": false,
     "start_time": "2025-08-29T11:14:43.698582",
     "status": "completed"
    },
    "tags": []
   },
   "outputs": [
    {
     "name": "stdout",
     "output_type": "stream",
     "text": [
      "Action ---> Take-Two Interactive\n",
      "Adventure ---> Ubisoft\n",
      "Fighting ---> THQ\n",
      "Misc ---> Nintendo\n",
      "Platform ---> Nintendo\n",
      "Puzzle ---> Nintendo\n",
      "Racing ---> Electronic Arts\n",
      "Role-Playing ---> Nintendo\n",
      "Shooter ---> Activision\n",
      "Simulation ---> Electronic Arts\n",
      "Sports ---> Electronic Arts\n",
      "Strategy ---> Activision\n"
     ]
    }
   ],
   "source": [
    "df_gen=df.groupby(['Genre','Publisher'])['EU_Sales'].sum().reset_index()\n",
    "df_pub1=df_gen.loc[df_gen.groupby(\"Genre\")[\"EU_Sales\"].idxmax()].reset_index()\n",
    "df_pub1=df_pub1[['Genre', 'Publisher','EU_Sales']]\n",
    "final=df_pub1[['Genre','Publisher']]\n",
    "for i in range (0,len(final)):\n",
    "   print(final['Genre'][i],\"--->\",final['Publisher'][i])\n",
    "\n",
    "\n",
    "\n"
   ]
  },
  {
   "cell_type": "markdown",
   "id": "9238081a",
   "metadata": {
    "papermill": {
     "duration": 0.007098,
     "end_time": "2025-08-29T11:14:43.742445",
     "exception": false,
     "start_time": "2025-08-29T11:14:43.735347",
     "status": "completed"
    },
    "tags": []
   },
   "source": [
    "\n",
    "## 🎯 Level 9: Nintendo’s Golden Year  \n",
    "Nintendo is one of the biggest names in gaming 🎮  \n",
    "But… which year did Nintendo achieve its **highest total Global Sales**?  \n",
    "\n",
    "Your task:  \n",
    "- Filter the dataset for **Publisher = Nintendo**.  \n",
    "- Group sales by year.  \n",
    "- Find the year with the **highest global sales**.  \n",
    "\n",
    "This is like uncovering the **peak of Nintendo’s power**   \n",
    "\n"
   ]
  },
  {
   "cell_type": "code",
   "execution_count": 16,
   "id": "763a9ca6",
   "metadata": {
    "execution": {
     "iopub.execute_input": "2025-08-29T11:14:43.758498Z",
     "iopub.status.busy": "2025-08-29T11:14:43.758159Z",
     "iopub.status.idle": "2025-08-29T11:14:43.775772Z",
     "shell.execute_reply": "2025-08-29T11:14:43.774832Z"
    },
    "papermill": {
     "duration": 0.027542,
     "end_time": "2025-08-29T11:14:43.777210",
     "exception": false,
     "start_time": "2025-08-29T11:14:43.749668",
     "status": "completed"
    },
    "tags": []
   },
   "outputs": [
    {
     "data": {
      "text/html": [
       "<div>\n",
       "<style scoped>\n",
       "    .dataframe tbody tr th:only-of-type {\n",
       "        vertical-align: middle;\n",
       "    }\n",
       "\n",
       "    .dataframe tbody tr th {\n",
       "        vertical-align: top;\n",
       "    }\n",
       "\n",
       "    .dataframe thead th {\n",
       "        text-align: right;\n",
       "    }\n",
       "</style>\n",
       "<table border=\"1\" class=\"dataframe\">\n",
       "  <thead>\n",
       "    <tr style=\"text-align: right;\">\n",
       "      <th></th>\n",
       "      <th>sum</th>\n",
       "    </tr>\n",
       "    <tr>\n",
       "      <th>Year</th>\n",
       "      <th></th>\n",
       "    </tr>\n",
       "  </thead>\n",
       "  <tbody>\n",
       "    <tr>\n",
       "      <th>2006</th>\n",
       "      <td>205.61</td>\n",
       "    </tr>\n",
       "    <tr>\n",
       "      <th>2009</th>\n",
       "      <td>128.89</td>\n",
       "    </tr>\n",
       "    <tr>\n",
       "      <th>2005</th>\n",
       "      <td>127.47</td>\n",
       "    </tr>\n",
       "    <tr>\n",
       "      <th>2007</th>\n",
       "      <td>104.18</td>\n",
       "    </tr>\n",
       "    <tr>\n",
       "      <th>2008</th>\n",
       "      <td>91.22</td>\n",
       "    </tr>\n",
       "  </tbody>\n",
       "</table>\n",
       "</div>"
      ],
      "text/plain": [
       "         sum\n",
       "Year        \n",
       "2006  205.61\n",
       "2009  128.89\n",
       "2005  127.47\n",
       "2007  104.18\n",
       "2008   91.22"
      ]
     },
     "execution_count": 16,
     "metadata": {},
     "output_type": "execute_result"
    }
   ],
   "source": [
    "df_nin=df.query('Publisher==\"Nintendo\"').groupby('Year')['Global_Sales'].agg(['sum']).sort_values(by='sum',ascending=False)\n",
    "\n",
    "df_nin.head(5)"
   ]
  },
  {
   "cell_type": "markdown",
   "id": "1816666e",
   "metadata": {
    "papermill": {
     "duration": 0.007422,
     "end_time": "2025-08-29T11:14:43.792317",
     "exception": false,
     "start_time": "2025-08-29T11:14:43.784895",
     "status": "completed"
    },
    "tags": []
   },
   "source": [
    "\n",
    "## 🏟️ Final Boss Arena: The Data Playground  \n",
    "\n",
    "You’ve fought through all the levels ⚔️, now it’s time to explore on your own 🎉  \n",
    "\n",
    "Your final mission:  \n",
    "- Choose **any 2–3 plots** (your choice!) that show **interesting patterns** in the data.   \n",
    "\n",
    "💡 This is your **creative zone** → Think of it as building your own “story” from the dataset.  \n",
    "\n",
    "When you’re done, share your best plot with the team — let’s see who finds the coolest insight!  \n",
    "\n"
   ]
  },
  {
   "cell_type": "code",
   "execution_count": null,
   "id": "7d54b45b",
   "metadata": {
    "papermill": {
     "duration": 0.007261,
     "end_time": "2025-08-29T11:14:43.807170",
     "exception": false,
     "start_time": "2025-08-29T11:14:43.799909",
     "status": "completed"
    },
    "tags": []
   },
   "outputs": [],
   "source": []
  }
 ],
 "metadata": {
  "kaggle": {
   "accelerator": "none",
   "dataSources": [
    {
     "datasetId": 284,
     "sourceId": 618,
     "sourceType": "datasetVersion"
    }
   ],
   "dockerImageVersionId": 31089,
   "isGpuEnabled": false,
   "isInternetEnabled": false,
   "language": "python",
   "sourceType": "notebook"
  },
  "kernelspec": {
   "display_name": "Python 3",
   "language": "python",
   "name": "python3"
  },
  "language_info": {
   "codemirror_mode": {
    "name": "ipython",
    "version": 3
   },
   "file_extension": ".py",
   "mimetype": "text/x-python",
   "name": "python",
   "nbconvert_exporter": "python",
   "pygments_lexer": "ipython3",
   "version": "3.11.13"
  },
  "papermill": {
   "default_parameters": {},
   "duration": 11.221851,
   "end_time": "2025-08-29T11:14:44.534807",
   "environment_variables": {},
   "exception": null,
   "input_path": "__notebook__.ipynb",
   "output_path": "__notebook__.ipynb",
   "parameters": {},
   "start_time": "2025-08-29T11:14:33.312956",
   "version": "2.6.0"
  }
 },
 "nbformat": 4,
 "nbformat_minor": 5
}
