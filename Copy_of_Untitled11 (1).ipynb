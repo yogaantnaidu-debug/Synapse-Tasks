{
  "nbformat": 4,
  "nbformat_minor": 0,
  "metadata": {
    "colab": {
      "provenance": []
    },
    "kernelspec": {
      "name": "python3",
      "display_name": "Python 3"
    },
    "language_info": {
      "name": "python"
    }
  },
  "cells": [
    {
      "cell_type": "markdown",
      "source": [
        "# 🎯 Bonus Quest: The Exam Oracle 3000\n",
        "## 📖 Storytime\n",
        "Welcome, young **data sorcerer** 🧙‍♂️! Your mission is to forge the *Exam Oracle 3000*, a mystical neural network that peers into the academic abyss to predict whether a student will **Pass** or **Fail** their exams. One misstep in your forward propagation spell, and the oracle will spew nonsense!\n",
        "\n",
        "---\n",
        "\n",
        "## ⚙️ The Oracle’s Sacred Blueprint\n",
        "The Council of AI Elders has decreed the following structure:\n",
        "\n",
        "- **Input Layer**: 3 neurons (e.g., study hours, attendance %, quiz score).  \n",
        "- **Hidden Layers**: 1 layer, each with 3–5 neurons (your choice). These are the mystery chambers where exam fates are woven.  \n",
        "- **Output Layer**: 2 neurons:  \n",
        "  - Neuron 1: Probability of **Pass**.  \n",
        "  - Neuron 2: Probability of **Fail**.\n",
        "\n",
        "### 🔮 Activation Magic\n",
        "Every neuron must wield the **Sigmoid** function to keep predictions between 0 and 1:\n",
        "$$\n",
        "\\sigma(z) = \\frac{1}{1 + e^{-z}}\n",
        "$$\n",
        "\n",
        "Note: You can explore and try different activation functions as well!\n",
        "\n",
        "---\n",
        "\n",
        "\n",
        "\n",
        "## 🛠️ Your Task Scroll\n",
        "1. Write **Python code** (NumPy allowed) for **forward propagation**.  \n",
        "2. Assign your own **weights and biases** manually, as if you're the god of exam grading (e.g., give \"study hours\" a higher weight).  \n",
        "3. Try **2–3 different sets** of weights and biases to see how the oracle shifts its predictions.  \n",
        "4. For each layer, compute:\n",
        "   $$\n",
        "   Z = W \\cdot X + b\n",
        "   $$\n",
        "   $$\n",
        "   A = \\sigma(Z)\n",
        "   $$\n",
        "5. Output two probabilities: one for **Pass**, one for **Fail** (e.g., `[0.90, 0.10]` → 90% Pass chance).\n",
        "\n",
        "NOTE: First you are supposed to do the forward proporgation by yourself on pen and paper and then code! You can try giving different weights and biases and then decide on one which gives the most accurate results!\n",
        "\n",
        "---\n",
        "\n",
        "## 🎮 Play Mode: Test Your Oracle\n",
        "Test your oracle with **2–3 student profiles**:\n",
        "- **Student A**: [8 study hours, 90% attendance, 85% quiz score] → Should lean toward **Pass**.  \n",
        "- **Student B**: [2 study hours, 30% attendance, 20% quiz score] → Likely **Fail**.  \n",
        "- **Student C**: A mystery case with mixed values (your choice)!\n",
        "\n",
        "---\n",
        "\n",
        "## 🏆 Bonus Fun\n",
        "- Print dramatic verdicts:  \n",
        "  - \"🔮 The Oracle whispers: 95% chance of Passing. Rejoice, mortal!\"  \n",
        "  - \"💀 The Oracle warns: 12% chance of Passing. May the curve be ever in your favor…\"  \n",
        "- Compare your **Oracle v1**, **Oracle v2**, and **Oracle v3** (different weights/biases). Which is the wisest?\n",
        "\n",
        "---\n",
        "\n",
        "## 📜 Rules of the Quest\n",
        "- **Forward propagation only** (no backpropagation spells).  \n",
        "- Use **NumPy only**—no TensorFlow, PyTorch, or Keras.  \n",
        "- Keep it **fun**, **experiment**, and craft the most *realistic* oracle!\n",
        "\n",
        "---\n",
        "\n",
        "**Ready to cast your spell?** Build your Exam Oracle 3000! ✨"
      ],
      "metadata": {
        "id": "yOnwD6Hbhcpp"
      }
    },
    {
      "cell_type": "code",
      "execution_count": 164,
      "metadata": {
        "id": "cO9cEQCLhXhG",
        "colab": {
          "base_uri": "https://localhost:8080/"
        },
        "outputId": "b6d3dcc8-f8aa-447e-b847-72d56c2e6c0e"
      },
      "outputs": [
        {
          "output_type": "stream",
          "name": "stdout",
          "text": [
            "End Sem prediction for student(Pass%): [[74.52775849]] |(Fail%): [[25.47224151]]\n"
          ]
        }
      ],
      "source": [
        "# Exam Oracle 3000 - Forward Propagation Skeleton (1 Hidden Layer)\n",
        "\n",
        "import numpy as np\n",
        "\n",
        "# 1. Define sigmoid activation (In case you have tried different activation function code that here instead of sigmoid)\n",
        "def sigmoid(z):\n",
        "   t=1/(1+np.exp(-z))\n",
        "   return t\n",
        "    # implement sigmoid\n",
        "\n",
        "\n",
        "# 2. Input (Student Profile)\n",
        "X = np.array([[5],[20],[11]])   # Fill with your chosen 3 parameters [study_hours, Classes Bunked, TTScore(out of 15)]\n",
        "\n",
        "# 3. Initialize weights and biases (Set your own weights and biases!)\n",
        "# Hidden layer\n",
        "W1 = np.array([[2,-1.5,1.5],[3,-2,0.88],[2,-1.5,1]])\n",
        "b1 = np.array([[0],[-2],[1]])\n",
        "\n",
        "# Output layer (2 neurons: Pass, Fail)\n",
        "W2 = np.array([[2.5,-1,0.9]])\n",
        "b2 = np.array([[1]]) # Fixed the shape of b2\n",
        "\n",
        "# 4. Forward Propagation\n",
        "# Input → Hidden\n",
        "Z1 = np.dot(W1,X)+b1  # dot product + bias\n",
        "A1 = sigmoid(Z1) # apply activation magic\n",
        "\n",
        "# Hidden → Output  (Try thinking this on your own)\n",
        "Z2 =np.dot(W2,A1)+b2\n",
        "A2 =sigmoid(Z2)\n",
        "A3=1-A2\n",
        "\n",
        "# 5. Final Prediction\n",
        "print(\"End Sem prediction for student(Pass%):\",A2*100,\"|(Fail%):\",A3*100)\n",
        "\n",
        "\n",
        "#TRY VERIFYING THE RESULTS WITH YOUR WEIGHTS AND BIASES THAT YOU HAVE TRIED ON PEN PAPER!!"
      ]
    },
    {
      "cell_type": "code",
      "source": [],
      "metadata": {
        "id": "S-fteb0AclGb"
      },
      "execution_count": null,
      "outputs": []
    },
    {
      "cell_type": "markdown",
      "source": [
        "REFERENCE LINKS:\n",
        "\n",
        "https://www.youtube.com/watch?v=7MuiScUkboE\n",
        "\n",
        "https://www.youtube.com/watch?v=sNTtUV9yE_M&t=23s\n",
        "\n",
        "https://www.youtube.com/watch?v=99CcviQchd8 (For coding)\n",
        "\n",
        "\n",
        "BONUS: If you are still curious you can always explore more about artificial neural network and code using tensorflow!"
      ],
      "metadata": {
        "id": "sHAMAwXJRyzZ"
      }
    }
  ]
}